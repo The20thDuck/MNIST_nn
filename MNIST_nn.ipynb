{
  "nbformat": 4,
  "nbformat_minor": 0,
  "metadata": {
    "colab": {
      "name": "MNIST_nn.ipynb",
      "provenance": [],
      "authorship_tag": "ABX9TyPKaO+K+xUAwitw4BTSyqjj",
      "include_colab_link": true
    },
    "kernelspec": {
      "name": "python3",
      "display_name": "Python 3"
    },
    "language_info": {
      "name": "python"
    },
    "accelerator": "GPU"
  },
  "cells": [
    {
      "cell_type": "markdown",
      "metadata": {
        "id": "view-in-github",
        "colab_type": "text"
      },
      "source": [
        "<a href=\"https://colab.research.google.com/github/The20thDuck/MNIST_nn/blob/main/MNIST_nn.ipynb\" target=\"_parent\"><img src=\"https://colab.research.google.com/assets/colab-badge.svg\" alt=\"Open In Colab\"/></a>"
      ]
    },
    {
      "cell_type": "code",
      "source": [
        "!pip install einops"
      ],
      "metadata": {
        "colab": {
          "base_uri": "https://localhost:8080/"
        },
        "id": "ILtIO6GGbUEz",
        "outputId": "9e83da9b-0536-436c-8e6d-dc8ac3f08f8e"
      },
      "execution_count": 1,
      "outputs": [
        {
          "output_type": "stream",
          "name": "stdout",
          "text": [
            "Requirement already satisfied: einops in /usr/local/lib/python3.7/dist-packages (0.4.0)\n"
          ]
        }
      ]
    },
    {
      "cell_type": "code",
      "execution_count": 2,
      "metadata": {
        "id": "vbOInqLaZqtd"
      },
      "outputs": [],
      "source": [
        "import torch\n",
        "import einops\n",
        "from torch import nn\n",
        "import torchvision\n",
        "from torch.utils.data.dataset import random_split\n"
      ]
    },
    {
      "cell_type": "code",
      "source": [
        "model = nn.Sequential(\n",
        "    nn.Linear(28 * 28, 64),\n",
        "    nn.ReLU(),\n",
        "    nn.Linear(64, 64),\n",
        "    nn.ReLU(),\n",
        "    nn.Linear(64, 10)\n",
        ")\n",
        "\n"
      ],
      "metadata": {
        "id": "rG0GoB9oZ3D-"
      },
      "execution_count": 3,
      "outputs": []
    },
    {
      "cell_type": "code",
      "source": [
        "class ResNet(nn.Module):\n",
        "  def __init__(self):\n",
        "    super().__init__()\n",
        "    self.l1 = nn.Linear(28*28, 64)\n",
        "    self.l2 = nn.Linear(64, 64)\n",
        "    self.l3 = nn.Linear(64, 10)\n",
        "    self.do = nn.Dropout(.1)\n",
        "\n",
        "  def forward(self, x):\n",
        "    h1 = nn.functional.relu(self.l1(x))\n",
        "    h2 = nn.functional.relu(self.l2(h1))\n",
        "    do = self.do(h1 + h2)\n",
        "    return self.l3(do)\n",
        "\n",
        "model = ResNet().to('cuda')"
      ],
      "metadata": {
        "id": "GMa3Tx7Iv_Fi"
      },
      "execution_count": 4,
      "outputs": []
    },
    {
      "cell_type": "code",
      "source": [
        "\n",
        "optimizer = torch.optim.SGD(model.parameters(), lr=1e-2)\n",
        "\n",
        "loss = nn.CrossEntropyLoss()"
      ],
      "metadata": {
        "id": "OGkRiP9rwfQE"
      },
      "execution_count": 5,
      "outputs": []
    },
    {
      "cell_type": "code",
      "source": [
        "mnist_data = torchvision.datasets.MNIST('data', train=True, download=True, transform=torchvision.transforms.ToTensor())\n",
        "train, val = random_split(mnist_data, [55_000, 5_000])\n",
        "train_loader = torch.utils.data.DataLoader(train,\n",
        "                                          batch_size=32)\n",
        "val_loader = torch.utils.data.DataLoader(val,\n",
        "                                          batch_size=32)\n"
      ],
      "metadata": {
        "id": "rNnbie3_pqIl"
      },
      "execution_count": 6,
      "outputs": []
    },
    {
      "cell_type": "code",
      "source": [
        "nb_epochs = 5\n",
        "model.train()\n",
        "for epoch in range(nb_epochs):\n",
        "  losses = list()\n",
        "  accuracies = list()\n",
        "  for batch in train_loader:\n",
        "    x, y = batch # x: b x 1 x 28 x 28\n",
        "    x = x.view(x.size(0), -1)\n",
        "    x = x.to('cuda')\n",
        "    y = y.to('cuda')\n",
        "    # 1 forward\n",
        "    l = model(x)\n",
        "\n",
        "    # 2 compute objective function\n",
        "    J = loss(l, y) # takes in logits, and one of (class indices, probabilities)\n",
        "    # 3 clean gradients \n",
        "    model.zero_grad()\n",
        "    # 4 accumulate gradients\n",
        "    J.backward()\n",
        "    # step in opposite direction of gradient\n",
        "    optimizer.step()\n",
        "    losses.append(J.item())\n",
        "    accuracies.append((y == l.detach().argmax(dim=1)).float().mean())\n",
        "  print(f'Epoch {epoch+1}, train loss: {torch.tensor(losses).mean() :.2f}, accuracy: {torch.tensor(accuracies).mean() :.2f}')\n",
        "\n",
        "# Validation calculation\n",
        "model.eval()\n",
        "losses = list()\n",
        "accuracies = list()\n",
        "for batch in val_loader:\n",
        "  x, y = batch # x: b x 1 x 28 x 28\n",
        "  x = x.view(x.size(0), -1)\n",
        "  x = x.to('cuda')\n",
        "  y = y.to('cuda')\n",
        "  \n",
        "  # 1 forward\n",
        "  with torch.no_grad():\n",
        "    l = model(x)\n",
        "\n",
        "  # 2 compute objective function\n",
        "  J = loss(l, y) # takes in logits, and one of (class indices, probabilities)\n",
        "\n",
        "  accuracies.append((y == l.detach().argmax(dim=1)).float().mean())\n",
        "  losses.append(J.item())\n",
        "print(f'validation loss: {torch.tensor(losses).mean() :.2f}, accuracy: {torch.tensor(accuracies).mean() :.2f}')"
      ],
      "metadata": {
        "colab": {
          "base_uri": "https://localhost:8080/"
        },
        "id": "yNn6p-Rzazwz",
        "outputId": "d0d752b8-d02b-475d-a114-9a4163fa5148"
      },
      "execution_count": 7,
      "outputs": [
        {
          "output_type": "stream",
          "name": "stdout",
          "text": [
            "Epoch 1, train loss: 0.87, accuracy: 0.77\n",
            "Epoch 2, train loss: 0.38, accuracy: 0.89\n",
            "Epoch 3, train loss: 0.32, accuracy: 0.91\n",
            "Epoch 4, train loss: 0.28, accuracy: 0.92\n",
            "Epoch 5, train loss: 0.25, accuracy: 0.93\n",
            "validation loss: 0.23, accuracy: 0.94\n"
          ]
        }
      ]
    },
    {
      "cell_type": "code",
      "source": [
        ""
      ],
      "metadata": {
        "id": "2ehzJSsEuZwZ"
      },
      "execution_count": 32,
      "outputs": []
    }
  ]
}